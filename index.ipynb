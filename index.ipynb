{
  "cells": [
    {
      "cell_type": "raw",
      "metadata": {},
      "source": [
        "---\n",
        "title: \"GISProject Yay\"\n",
        "---"
      ],
      "id": "dcdc974e"
    },
    {
      "cell_type": "markdown",
      "metadata": {},
      "source": [
        "This is a Quarto website.\n",
        "\n",
        "To learn more about Quarto websites visit <https://quarto.org/docs/websites>.\n",
        "\n",
        "\n",
        "```{Welcome to our GIS Project website}\n",
        "```"
      ],
      "id": "e4d20937"
    }
  ],
  "metadata": {
    "kernelspec": {
      "name": "python38132bit03080210e52445abac8f3bd83884a4a5",
      "language": "python",
      "display_name": "Python 3.8.1 32-bit"
    }
  },
  "nbformat": 4,
  "nbformat_minor": 5
}